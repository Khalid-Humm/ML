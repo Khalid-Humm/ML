{
 "cells": [
  {
   "cell_type": "code",
   "execution_count": 1,
   "id": "0363b25e",
   "metadata": {
    "_cell_guid": "b1076dfc-b9ad-4769-8c92-a6c4dae69d19",
    "_uuid": "8f2839f25d086af736a60e9eeb907d3b93b6e0e5",
    "execution": {
     "iopub.execute_input": "2023-01-14T23:15:39.893251Z",
     "iopub.status.busy": "2023-01-14T23:15:39.892762Z",
     "iopub.status.idle": "2023-01-14T23:15:41.234398Z",
     "shell.execute_reply": "2023-01-14T23:15:41.233178Z"
    },
    "papermill": {
     "duration": 1.353807,
     "end_time": "2023-01-14T23:15:41.237283",
     "exception": false,
     "start_time": "2023-01-14T23:15:39.883476",
     "status": "completed"
    },
    "tags": []
   },
   "outputs": [],
   "source": [
    "import numpy as np\n",
    "import pandas as pd\n",
    "import seaborn as sns\n",
    "from sklearn.feature_extraction.text import CountVectorizer,TfidfVectorizer\n",
    "from sklearn.linear_model import *\n",
    "from sklearn.ensemble import *\n",
    "from sklearn.tree import *"
   ]
  },
  {
   "cell_type": "code",
   "execution_count": 2,
   "id": "aaa1116b",
   "metadata": {
    "execution": {
     "iopub.execute_input": "2023-01-14T23:15:41.251621Z",
     "iopub.status.busy": "2023-01-14T23:15:41.251292Z",
     "iopub.status.idle": "2023-01-14T23:15:41.255993Z",
     "shell.execute_reply": "2023-01-14T23:15:41.254971Z"
    },
    "papermill": {
     "duration": 0.014212,
     "end_time": "2023-01-14T23:15:41.258090",
     "exception": false,
     "start_time": "2023-01-14T23:15:41.243878",
     "status": "completed"
    },
    "tags": []
   },
   "outputs": [],
   "source": [
    "from IPython.display import display"
   ]
  },
  {
   "cell_type": "code",
   "execution_count": 3,
   "id": "6a49c758",
   "metadata": {
    "execution": {
     "iopub.execute_input": "2023-01-14T23:15:41.271111Z",
     "iopub.status.busy": "2023-01-14T23:15:41.270836Z",
     "iopub.status.idle": "2023-01-14T23:15:41.475479Z",
     "shell.execute_reply": "2023-01-14T23:15:41.474486Z"
    },
    "papermill": {
     "duration": 0.214228,
     "end_time": "2023-01-14T23:15:41.478075",
     "exception": false,
     "start_time": "2023-01-14T23:15:41.263847",
     "status": "completed"
    },
    "tags": []
   },
   "outputs": [],
   "source": [
    "pos_train=pd.read_csv('/Users/kh/Desktop/MODEL/train_Arabic_tweets_positive_20190413.tsv',sep='\\t',header=None)\n",
    "neg_train=pd.read_csv('/Users/kh/Desktop/MODEL/train_Arabic_tweets_negative_20190413.tsv',sep='\\t',header=None)\n",
    "train_data=pd.concat([pos_train,neg_train],ignore_index=True)\n",
    "train_data.columns=['label','tweet']\n",
    "del pos_train,neg_train"
   ]
  },
  {
   "cell_type": "code",
   "execution_count": 4,
   "id": "ac32541d",
   "metadata": {
    "execution": {
     "iopub.execute_input": "2023-01-14T23:15:41.492112Z",
     "iopub.status.busy": "2023-01-14T23:15:41.491253Z",
     "iopub.status.idle": "2023-01-14T23:15:41.510151Z",
     "shell.execute_reply": "2023-01-14T23:15:41.509250Z"
    },
    "papermill": {
     "duration": 0.028077,
     "end_time": "2023-01-14T23:15:41.512245",
     "exception": false,
     "start_time": "2023-01-14T23:15:41.484168",
     "status": "completed"
    },
    "tags": []
   },
   "outputs": [
    {
     "data": {
      "text/html": [
       "<div>\n",
       "<style scoped>\n",
       "    .dataframe tbody tr th:only-of-type {\n",
       "        vertical-align: middle;\n",
       "    }\n",
       "\n",
       "    .dataframe tbody tr th {\n",
       "        vertical-align: top;\n",
       "    }\n",
       "\n",
       "    .dataframe thead th {\n",
       "        text-align: right;\n",
       "    }\n",
       "</style>\n",
       "<table border=\"1\" class=\"dataframe\">\n",
       "  <thead>\n",
       "    <tr style=\"text-align: right;\">\n",
       "      <th></th>\n",
       "      <th>label</th>\n",
       "      <th>tweet</th>\n",
       "    </tr>\n",
       "  </thead>\n",
       "  <tbody>\n",
       "    <tr>\n",
       "      <th>0</th>\n",
       "      <td>pos</td>\n",
       "      <td>الحياة حلوة</td>\n",
       "    </tr>\n",
       "    <tr>\n",
       "      <th>1</th>\n",
       "      <td>pos</td>\n",
       "      <td>الليل جميل والقمر نوره أجمل</td>\n",
       "    </tr>\n",
       "    <tr>\n",
       "      <th>2</th>\n",
       "      <td>pos</td>\n",
       "      <td>طعمه لذيذ وحلو ..</td>\n",
       "    </tr>\n",
       "    <tr>\n",
       "      <th>3</th>\n",
       "      <td>pos</td>\n",
       "      <td>الجامعة سهلت علي الدخول</td>\n",
       "    </tr>\n",
       "    <tr>\n",
       "      <th>4</th>\n",
       "      <td>pos</td>\n",
       "      <td>انا بخير الحمدلله كل شي تمام</td>\n",
       "    </tr>\n",
       "  </tbody>\n",
       "</table>\n",
       "</div>"
      ],
      "text/plain": [
       "  label                         tweet\n",
       "0   pos                  الحياة حلوة \n",
       "1   pos   الليل جميل والقمر نوره أجمل\n",
       "2   pos            طعمه لذيذ وحلو .. \n",
       "3   pos      الجامعة سهلت علي الدخول \n",
       "4   pos  انا بخير الحمدلله كل شي تمام"
      ]
     },
     "execution_count": 4,
     "metadata": {},
     "output_type": "execute_result"
    }
   ],
   "source": [
    "train_data.head()"
   ]
  },
  {
   "cell_type": "code",
   "execution_count": 5,
   "id": "585263b2",
   "metadata": {
    "execution": {
     "iopub.execute_input": "2023-01-14T23:15:41.528317Z",
     "iopub.status.busy": "2023-01-14T23:15:41.526748Z",
     "iopub.status.idle": "2023-01-14T23:15:41.540385Z",
     "shell.execute_reply": "2023-01-14T23:15:41.539389Z"
    },
    "papermill": {
     "duration": 0.023462,
     "end_time": "2023-01-14T23:15:41.542525",
     "exception": false,
     "start_time": "2023-01-14T23:15:41.519063",
     "status": "completed"
    },
    "tags": []
   },
   "outputs": [
    {
     "data": {
      "text/plain": [
       "label    0\n",
       "tweet    0\n",
       "dtype: int64"
      ]
     },
     "execution_count": 5,
     "metadata": {},
     "output_type": "execute_result"
    }
   ],
   "source": [
    "train_data.isnull().sum()"
   ]
  },
  {
   "cell_type": "code",
   "execution_count": 6,
   "id": "ae36e287",
   "metadata": {
    "execution": {
     "iopub.execute_input": "2023-01-14T23:15:41.558237Z",
     "iopub.status.busy": "2023-01-14T23:15:41.557586Z",
     "iopub.status.idle": "2023-01-14T23:15:41.567506Z",
     "shell.execute_reply": "2023-01-14T23:15:41.566426Z"
    },
    "papermill": {
     "duration": 0.02045,
     "end_time": "2023-01-14T23:15:41.569409",
     "exception": false,
     "start_time": "2023-01-14T23:15:41.548959",
     "status": "completed"
    },
    "tags": []
   },
   "outputs": [
    {
     "data": {
      "text/html": [
       "<div>\n",
       "<style scoped>\n",
       "    .dataframe tbody tr th:only-of-type {\n",
       "        vertical-align: middle;\n",
       "    }\n",
       "\n",
       "    .dataframe tbody tr th {\n",
       "        vertical-align: top;\n",
       "    }\n",
       "\n",
       "    .dataframe thead th {\n",
       "        text-align: right;\n",
       "    }\n",
       "</style>\n",
       "<table border=\"1\" class=\"dataframe\">\n",
       "  <thead>\n",
       "    <tr style=\"text-align: right;\">\n",
       "      <th></th>\n",
       "      <th>label</th>\n",
       "      <th>tweet</th>\n",
       "    </tr>\n",
       "  </thead>\n",
       "  <tbody>\n",
       "    <tr>\n",
       "      <th>193</th>\n",
       "      <td>neg</td>\n",
       "      <td>الصعوبة اللي واجهتها في الجامعة جدا اتعبتني</td>\n",
       "    </tr>\n",
       "    <tr>\n",
       "      <th>194</th>\n",
       "      <td>neg</td>\n",
       "      <td>من ال٧ الصبح وأنا كل شوي بصحى على المنبه وبقرر...</td>\n",
       "    </tr>\n",
       "    <tr>\n",
       "      <th>195</th>\n",
       "      <td>neg</td>\n",
       "      <td>جادلوني بك •• أقسمت لهم أنك مختلف •• فخذلتني 💔</td>\n",
       "    </tr>\n",
       "    <tr>\n",
       "      <th>196</th>\n",
       "      <td>neg</td>\n",
       "      <td>ليش يمنعني ويسمح لنفسه؟! 😠</td>\n",
       "    </tr>\n",
       "    <tr>\n",
       "      <th>197</th>\n",
       "      <td>neg</td>\n",
       "      <td>لا تكفى الا انت لاتتوقع 💔</td>\n",
       "    </tr>\n",
       "  </tbody>\n",
       "</table>\n",
       "</div>"
      ],
      "text/plain": [
       "    label                                              tweet\n",
       "193   neg        الصعوبة اللي واجهتها في الجامعة جدا اتعبتني\n",
       "194   neg  من ال٧ الصبح وأنا كل شوي بصحى على المنبه وبقرر...\n",
       "195   neg     جادلوني بك •• أقسمت لهم أنك مختلف •• فخذلتني 💔\n",
       "196   neg                         ليش يمنعني ويسمح لنفسه؟! 😠\n",
       "197   neg                          لا تكفى الا انت لاتتوقع 💔"
      ]
     },
     "execution_count": 6,
     "metadata": {},
     "output_type": "execute_result"
    }
   ],
   "source": [
    "train_data.tail()"
   ]
  },
  {
   "cell_type": "code",
   "execution_count": 7,
   "id": "0cf3ce5e",
   "metadata": {
    "execution": {
     "iopub.execute_input": "2023-01-14T23:15:41.583913Z",
     "iopub.status.busy": "2023-01-14T23:15:41.583631Z",
     "iopub.status.idle": "2023-01-14T23:15:41.627362Z",
     "shell.execute_reply": "2023-01-14T23:15:41.626057Z"
    },
    "papermill": {
     "duration": 0.053922,
     "end_time": "2023-01-14T23:15:41.629728",
     "exception": false,
     "start_time": "2023-01-14T23:15:41.575806",
     "status": "completed"
    },
    "tags": []
   },
   "outputs": [
    {
     "data": {
      "text/plain": [
       "8"
      ]
     },
     "execution_count": 7,
     "metadata": {},
     "output_type": "execute_result"
    }
   ],
   "source": [
    "train_data.duplicated().sum()"
   ]
  },
  {
   "cell_type": "code",
   "execution_count": 8,
   "id": "baf5efc2",
   "metadata": {
    "_kg_hide-input": false,
    "_kg_hide-output": true,
    "execution": {
     "iopub.execute_input": "2023-01-14T23:15:41.643997Z",
     "iopub.status.busy": "2023-01-14T23:15:41.643733Z",
     "iopub.status.idle": "2023-01-14T23:15:41.676168Z",
     "shell.execute_reply": "2023-01-14T23:15:41.675087Z"
    },
    "papermill": {
     "duration": 0.042251,
     "end_time": "2023-01-14T23:15:41.678638",
     "exception": false,
     "start_time": "2023-01-14T23:15:41.636387",
     "status": "completed"
    },
    "tags": []
   },
   "outputs": [
    {
     "data": {
      "text/html": [
       "<div>\n",
       "<style scoped>\n",
       "    .dataframe tbody tr th:only-of-type {\n",
       "        vertical-align: middle;\n",
       "    }\n",
       "\n",
       "    .dataframe tbody tr th {\n",
       "        vertical-align: top;\n",
       "    }\n",
       "\n",
       "    .dataframe thead th {\n",
       "        text-align: right;\n",
       "    }\n",
       "</style>\n",
       "<table border=\"1\" class=\"dataframe\">\n",
       "  <thead>\n",
       "    <tr style=\"text-align: right;\">\n",
       "      <th></th>\n",
       "      <th>label</th>\n",
       "      <th>tweet</th>\n",
       "    </tr>\n",
       "  </thead>\n",
       "  <tbody>\n",
       "    <tr>\n",
       "      <th>93</th>\n",
       "      <td>pos</td>\n",
       "      <td>الليل جميل والقمر نوره أجمل</td>\n",
       "    </tr>\n",
       "    <tr>\n",
       "      <th>94</th>\n",
       "      <td>pos</td>\n",
       "      <td>الاحترام صفة طيبه من صفات المسلمين</td>\n",
       "    </tr>\n",
       "    <tr>\n",
       "      <th>95</th>\n",
       "      <td>pos</td>\n",
       "      <td>الاحترام صفة طيبه من صفات المسلمين</td>\n",
       "    </tr>\n",
       "    <tr>\n",
       "      <th>96</th>\n",
       "      <td>pos</td>\n",
       "      <td>الاحترام صفة طيبه من صفات المسلمين</td>\n",
       "    </tr>\n",
       "    <tr>\n",
       "      <th>97</th>\n",
       "      <td>pos</td>\n",
       "      <td>اصبحنا واصبح الملك لله سبحانه</td>\n",
       "    </tr>\n",
       "    <tr>\n",
       "      <th>145</th>\n",
       "      <td>neg</td>\n",
       "      <td>#ايش_علمتك_الايام لأنك لم تتخابث يوما لم تنجح ...</td>\n",
       "    </tr>\n",
       "    <tr>\n",
       "      <th>163</th>\n",
       "      <td>neg</td>\n",
       "      <td>ناس طيبين اوي اوي .. ليه فضحوني بس 🙈</td>\n",
       "    </tr>\n",
       "    <tr>\n",
       "      <th>167</th>\n",
       "      <td>neg</td>\n",
       "      <td>#حسين_عبدالغني يقولك ⤵️🔥💪🏻 انا لو اني بلتفت ال...</td>\n",
       "    </tr>\n",
       "  </tbody>\n",
       "</table>\n",
       "</div>"
      ],
      "text/plain": [
       "    label                                              tweet\n",
       "93    pos                        الليل جميل والقمر نوره أجمل\n",
       "94    pos                 الاحترام صفة طيبه من صفات المسلمين\n",
       "95    pos                 الاحترام صفة طيبه من صفات المسلمين\n",
       "96    pos                 الاحترام صفة طيبه من صفات المسلمين\n",
       "97    pos                      اصبحنا واصبح الملك لله سبحانه\n",
       "145   neg  #ايش_علمتك_الايام لأنك لم تتخابث يوما لم تنجح ...\n",
       "163   neg               ناس طيبين اوي اوي .. ليه فضحوني بس 🙈\n",
       "167   neg  #حسين_عبدالغني يقولك ⤵️🔥💪🏻 انا لو اني بلتفت ال..."
      ]
     },
     "execution_count": 8,
     "metadata": {},
     "output_type": "execute_result"
    }
   ],
   "source": [
    "train_data[train_data.duplicated()]"
   ]
  },
  {
   "cell_type": "code",
   "execution_count": 9,
   "id": "cb082f54",
   "metadata": {
    "execution": {
     "iopub.execute_input": "2023-01-14T23:15:41.723455Z",
     "iopub.status.busy": "2023-01-14T23:15:41.722645Z",
     "iopub.status.idle": "2023-01-14T23:15:41.748673Z",
     "shell.execute_reply": "2023-01-14T23:15:41.747824Z"
    },
    "papermill": {
     "duration": 0.035708,
     "end_time": "2023-01-14T23:15:41.750723",
     "exception": false,
     "start_time": "2023-01-14T23:15:41.715015",
     "status": "completed"
    },
    "tags": []
   },
   "outputs": [],
   "source": [
    "train_data.drop_duplicates(inplace=True)"
   ]
  },
  {
   "cell_type": "code",
   "execution_count": 10,
   "id": "1ab1d48b",
   "metadata": {
    "execution": {
     "iopub.execute_input": "2023-01-14T23:15:41.765767Z",
     "iopub.status.busy": "2023-01-14T23:15:41.765507Z",
     "iopub.status.idle": "2023-01-14T23:15:41.785876Z",
     "shell.execute_reply": "2023-01-14T23:15:41.784845Z"
    },
    "papermill": {
     "duration": 0.03041,
     "end_time": "2023-01-14T23:15:41.788321",
     "exception": false,
     "start_time": "2023-01-14T23:15:41.757911",
     "status": "completed"
    },
    "tags": []
   },
   "outputs": [
    {
     "data": {
      "text/plain": [
       "0"
      ]
     },
     "execution_count": 10,
     "metadata": {},
     "output_type": "execute_result"
    }
   ],
   "source": [
    "train_data.duplicated().sum()"
   ]
  },
  {
   "cell_type": "code",
   "execution_count": 11,
   "id": "ba384e9a",
   "metadata": {
    "execution": {
     "iopub.execute_input": "2023-01-14T23:15:41.804263Z",
     "iopub.status.busy": "2023-01-14T23:15:41.802815Z",
     "iopub.status.idle": "2023-01-14T23:15:41.814612Z",
     "shell.execute_reply": "2023-01-14T23:15:41.813557Z"
    },
    "papermill": {
     "duration": 0.021463,
     "end_time": "2023-01-14T23:15:41.816608",
     "exception": false,
     "start_time": "2023-01-14T23:15:41.795145",
     "status": "completed"
    },
    "tags": []
   },
   "outputs": [
    {
     "data": {
      "text/html": [
       "<div>\n",
       "<style scoped>\n",
       "    .dataframe tbody tr th:only-of-type {\n",
       "        vertical-align: middle;\n",
       "    }\n",
       "\n",
       "    .dataframe tbody tr th {\n",
       "        vertical-align: top;\n",
       "    }\n",
       "\n",
       "    .dataframe thead th {\n",
       "        text-align: right;\n",
       "    }\n",
       "</style>\n",
       "<table border=\"1\" class=\"dataframe\">\n",
       "  <thead>\n",
       "    <tr style=\"text-align: right;\">\n",
       "      <th></th>\n",
       "      <th>label</th>\n",
       "      <th>tweet</th>\n",
       "    </tr>\n",
       "  </thead>\n",
       "  <tbody>\n",
       "  </tbody>\n",
       "</table>\n",
       "</div>"
      ],
      "text/plain": [
       "Empty DataFrame\n",
       "Columns: [label, tweet]\n",
       "Index: []"
      ]
     },
     "execution_count": 11,
     "metadata": {},
     "output_type": "execute_result"
    }
   ],
   "source": [
    "train_data[train_data['tweet'] == 'طبعا سامعين 🙈']\n"
   ]
  },
  {
   "cell_type": "code",
   "execution_count": 12,
   "id": "6f99fd26",
   "metadata": {
    "execution": {
     "iopub.execute_input": "2023-01-14T23:15:41.832495Z",
     "iopub.status.busy": "2023-01-14T23:15:41.831715Z",
     "iopub.status.idle": "2023-01-14T23:15:41.898346Z",
     "shell.execute_reply": "2023-01-14T23:15:41.897483Z"
    },
    "papermill": {
     "duration": 0.07704,
     "end_time": "2023-01-14T23:15:41.900772",
     "exception": false,
     "start_time": "2023-01-14T23:15:41.823732",
     "status": "completed"
    },
    "tags": []
   },
   "outputs": [],
   "source": [
    "#reading test dataset\n",
    "test_pos=pd.read_csv(\"/Users/kh/Desktop/MODEL/test_Arabic_tweets_positive_20190413.tsv\",sep='\\t',header=None)\n",
    "test_neg=pd.read_csv(\"/Users/kh/Desktop/MODEL/test_Arabic_tweets_negative_20190413.tsv\",sep='\\t',header=None)\n",
    "test_data=pd.concat([test_pos,test_neg],ignore_index=True)\n",
    "test_data.columns=['label','tweet']\n",
    "del test_pos,test_neg"
   ]
  },
  {
   "cell_type": "code",
   "execution_count": 13,
   "id": "39f68710",
   "metadata": {
    "execution": {
     "iopub.execute_input": "2023-01-14T23:15:41.918524Z",
     "iopub.status.busy": "2023-01-14T23:15:41.916827Z",
     "iopub.status.idle": "2023-01-14T23:15:41.922971Z",
     "shell.execute_reply": "2023-01-14T23:15:41.922171Z"
    },
    "papermill": {
     "duration": 0.016494,
     "end_time": "2023-01-14T23:15:41.925005",
     "exception": false,
     "start_time": "2023-01-14T23:15:41.908511",
     "status": "completed"
    },
    "tags": []
   },
   "outputs": [],
   "source": [
    "training_data=train_data.copy()\n",
    "testing_data=test_data.copy()"
   ]
  },
  {
   "cell_type": "code",
   "execution_count": 14,
   "id": "775aba4a",
   "metadata": {
    "execution": {
     "iopub.execute_input": "2023-01-14T23:15:41.942174Z",
     "iopub.status.busy": "2023-01-14T23:15:41.941895Z",
     "iopub.status.idle": "2023-01-14T23:15:41.950823Z",
     "shell.execute_reply": "2023-01-14T23:15:41.949937Z"
    },
    "papermill": {
     "duration": 0.019163,
     "end_time": "2023-01-14T23:15:41.952918",
     "exception": false,
     "start_time": "2023-01-14T23:15:41.933755",
     "status": "completed"
    },
    "tags": []
   },
   "outputs": [
    {
     "data": {
      "text/html": [
       "<div>\n",
       "<style scoped>\n",
       "    .dataframe tbody tr th:only-of-type {\n",
       "        vertical-align: middle;\n",
       "    }\n",
       "\n",
       "    .dataframe tbody tr th {\n",
       "        vertical-align: top;\n",
       "    }\n",
       "\n",
       "    .dataframe thead th {\n",
       "        text-align: right;\n",
       "    }\n",
       "</style>\n",
       "<table border=\"1\" class=\"dataframe\">\n",
       "  <thead>\n",
       "    <tr style=\"text-align: right;\">\n",
       "      <th></th>\n",
       "      <th>label</th>\n",
       "      <th>tweet</th>\n",
       "    </tr>\n",
       "  </thead>\n",
       "  <tbody>\n",
       "    <tr>\n",
       "      <th>0</th>\n",
       "      <td>pos</td>\n",
       "      <td>الحياة حلوة</td>\n",
       "    </tr>\n",
       "    <tr>\n",
       "      <th>1</th>\n",
       "      <td>pos</td>\n",
       "      <td>الليل جميل والقمر نوره أجمل</td>\n",
       "    </tr>\n",
       "    <tr>\n",
       "      <th>2</th>\n",
       "      <td>pos</td>\n",
       "      <td>طعمه لذيذ وحلو ..</td>\n",
       "    </tr>\n",
       "    <tr>\n",
       "      <th>3</th>\n",
       "      <td>pos</td>\n",
       "      <td>الجامعة سهلت علي الدخول</td>\n",
       "    </tr>\n",
       "    <tr>\n",
       "      <th>4</th>\n",
       "      <td>pos</td>\n",
       "      <td>انا بخير الحمدلله كل شي تمام</td>\n",
       "    </tr>\n",
       "  </tbody>\n",
       "</table>\n",
       "</div>"
      ],
      "text/plain": [
       "  label                         tweet\n",
       "0   pos                  الحياة حلوة \n",
       "1   pos   الليل جميل والقمر نوره أجمل\n",
       "2   pos            طعمه لذيذ وحلو .. \n",
       "3   pos      الجامعة سهلت علي الدخول \n",
       "4   pos  انا بخير الحمدلله كل شي تمام"
      ]
     },
     "execution_count": 14,
     "metadata": {},
     "output_type": "execute_result"
    }
   ],
   "source": [
    "testing_data.head()"
   ]
  },
  {
   "cell_type": "code",
   "execution_count": 15,
   "id": "aa20b130",
   "metadata": {
    "execution": {
     "iopub.execute_input": "2023-01-14T23:15:41.969160Z",
     "iopub.status.busy": "2023-01-14T23:15:41.968414Z",
     "iopub.status.idle": "2023-01-14T23:15:41.972592Z",
     "shell.execute_reply": "2023-01-14T23:15:41.971645Z"
    },
    "papermill": {
     "duration": 0.014411,
     "end_time": "2023-01-14T23:15:41.974781",
     "exception": false,
     "start_time": "2023-01-14T23:15:41.960370",
     "status": "completed"
    },
    "tags": []
   },
   "outputs": [],
   "source": [
    "from sklearn.svm import SVC"
   ]
  },
  {
   "cell_type": "code",
   "execution_count": 16,
   "id": "58ee5339",
   "metadata": {
    "execution": {
     "iopub.execute_input": "2023-01-14T23:15:41.990812Z",
     "iopub.status.busy": "2023-01-14T23:15:41.990027Z",
     "iopub.status.idle": "2023-01-14T23:15:41.994592Z",
     "shell.execute_reply": "2023-01-14T23:15:41.993587Z"
    },
    "papermill": {
     "duration": 0.014576,
     "end_time": "2023-01-14T23:15:41.996615",
     "exception": false,
     "start_time": "2023-01-14T23:15:41.982039",
     "status": "completed"
    },
    "tags": []
   },
   "outputs": [],
   "source": [
    "vectorizer=TfidfVectorizer(analyzer='char_wb',ngram_range=(3,5),min_df=0.01,max_df=0.3)"
   ]
  },
  {
   "cell_type": "code",
   "execution_count": 17,
   "id": "6b04ac80",
   "metadata": {
    "execution": {
     "iopub.execute_input": "2023-01-14T23:15:42.012426Z",
     "iopub.status.busy": "2023-01-14T23:15:42.011707Z",
     "iopub.status.idle": "2023-01-14T23:23:00.835159Z",
     "shell.execute_reply": "2023-01-14T23:23:00.834089Z"
    },
    "papermill": {
     "duration": 438.834141,
     "end_time": "2023-01-14T23:23:00.837875",
     "exception": false,
     "start_time": "2023-01-14T23:15:42.003734",
     "status": "completed"
    },
    "tags": []
   },
   "outputs": [],
   "source": [
    "from sklearn.pipeline import make_pipeline \n",
    "clf=SVC(kernel='rbf')\n",
    "pipe=make_pipeline(vectorizer,clf)\n",
    "pipe.fit(training_data.tweet,training_data.label)\n",
    "y_pred=pipe.predict(testing_data.tweet)"
   ]
  },
  {
   "cell_type": "code",
   "execution_count": 18,
   "id": "bebc797f",
   "metadata": {
    "execution": {
     "iopub.execute_input": "2023-01-14T23:23:00.854610Z",
     "iopub.status.busy": "2023-01-14T23:23:00.854277Z",
     "iopub.status.idle": "2023-01-14T23:23:00.859033Z",
     "shell.execute_reply": "2023-01-14T23:23:00.857935Z"
    },
    "papermill": {
     "duration": 0.015336,
     "end_time": "2023-01-14T23:23:00.861238",
     "exception": false,
     "start_time": "2023-01-14T23:23:00.845902",
     "status": "completed"
    },
    "tags": []
   },
   "outputs": [],
   "source": [
    "from sklearn.metrics import accuracy_score,confusion_matrix,ConfusionMatrixDisplay,roc_curve,auc,RocCurveDisplay,classification_report"
   ]
  },
  {
   "cell_type": "code",
   "execution_count": 19,
   "id": "d7550c4a",
   "metadata": {
    "execution": {
     "iopub.execute_input": "2023-01-14T23:23:00.877259Z",
     "iopub.status.busy": "2023-01-14T23:23:00.876974Z",
     "iopub.status.idle": "2023-01-14T23:23:00.902155Z",
     "shell.execute_reply": "2023-01-14T23:23:00.901333Z"
    },
    "papermill": {
     "duration": 0.035984,
     "end_time": "2023-01-14T23:23:00.904192",
     "exception": false,
     "start_time": "2023-01-14T23:23:00.868208",
     "status": "completed"
    },
    "tags": []
   },
   "outputs": [
    {
     "data": {
      "text/plain": [
       "0.9848484848484849"
      ]
     },
     "execution_count": 19,
     "metadata": {},
     "output_type": "execute_result"
    }
   ],
   "source": [
    "accuracy_score(testing_data.label,y_pred)"
   ]
  },
  {
   "cell_type": "code",
   "execution_count": 20,
   "id": "9a12bd9b",
   "metadata": {
    "execution": {
     "iopub.execute_input": "2023-01-14T23:23:00.920333Z",
     "iopub.status.busy": "2023-01-14T23:23:00.920068Z",
     "iopub.status.idle": "2023-01-14T23:23:01.230134Z",
     "shell.execute_reply": "2023-01-14T23:23:01.228670Z"
    },
    "papermill": {
     "duration": 0.321619,
     "end_time": "2023-01-14T23:23:01.233259",
     "exception": false,
     "start_time": "2023-01-14T23:23:00.911640",
     "status": "completed"
    },
    "tags": []
   },
   "outputs": [
    {
     "name": "stdout",
     "output_type": "stream",
     "text": [
      "              precision    recall  f1-score   support\n",
      "\n",
      "         neg       0.97      1.00      0.99       100\n",
      "         pos       1.00      0.97      0.98        98\n",
      "\n",
      "    accuracy                           0.98       198\n",
      "   macro avg       0.99      0.98      0.98       198\n",
      "weighted avg       0.99      0.98      0.98       198\n",
      "\n"
     ]
    }
   ],
   "source": [
    "print(classification_report(testing_data.label,y_pred))"
   ]
  },
  {
   "cell_type": "code",
   "execution_count": 21,
   "id": "f2e9fb3e",
   "metadata": {
    "execution": {
     "iopub.execute_input": "2023-01-14T23:23:01.252360Z",
     "iopub.status.busy": "2023-01-14T23:23:01.252041Z",
     "iopub.status.idle": "2023-01-14T23:24:02.192120Z",
     "shell.execute_reply": "2023-01-14T23:24:02.191176Z"
    },
    "papermill": {
     "duration": 60.952095,
     "end_time": "2023-01-14T23:24:02.194754",
     "exception": false,
     "start_time": "2023-01-14T23:23:01.242659",
     "status": "completed"
    },
    "tags": []
   },
   "outputs": [],
   "source": [
    "clf2=RandomForestClassifier()\n",
    "pipe2=make_pipeline(vectorizer,clf2)\n",
    "pipe2.fit(training_data.tweet,training_data.label)\n",
    "pred=pipe2.predict(testing_data.tweet)"
   ]
  },
  {
   "cell_type": "code",
   "execution_count": 22,
   "id": "47da3293",
   "metadata": {
    "execution": {
     "iopub.execute_input": "2023-01-14T23:24:02.211510Z",
     "iopub.status.busy": "2023-01-14T23:24:02.211190Z",
     "iopub.status.idle": "2023-01-14T23:24:02.502085Z",
     "shell.execute_reply": "2023-01-14T23:24:02.500358Z"
    },
    "papermill": {
     "duration": 0.30171,
     "end_time": "2023-01-14T23:24:02.504393",
     "exception": false,
     "start_time": "2023-01-14T23:24:02.202683",
     "status": "completed"
    },
    "tags": []
   },
   "outputs": [
    {
     "name": "stdout",
     "output_type": "stream",
     "text": [
      "              precision    recall  f1-score   support\n",
      "\n",
      "         neg       0.98      1.00      0.99       100\n",
      "         pos       1.00      0.98      0.99        98\n",
      "\n",
      "    accuracy                           0.99       198\n",
      "   macro avg       0.99      0.99      0.99       198\n",
      "weighted avg       0.99      0.99      0.99       198\n",
      "\n"
     ]
    }
   ],
   "source": [
    "print(classification_report(testing_data.label,pred))"
   ]
  },
  {
   "cell_type": "code",
   "execution_count": 23,
   "id": "19296452",
   "metadata": {
    "execution": {
     "iopub.execute_input": "2023-01-14T23:24:02.521607Z",
     "iopub.status.busy": "2023-01-14T23:24:02.521289Z",
     "iopub.status.idle": "2023-01-14T23:24:02.544590Z",
     "shell.execute_reply": "2023-01-14T23:24:02.543674Z"
    },
    "papermill": {
     "duration": 0.034087,
     "end_time": "2023-01-14T23:24:02.546509",
     "exception": false,
     "start_time": "2023-01-14T23:24:02.512422",
     "status": "completed"
    },
    "tags": []
   },
   "outputs": [
    {
     "name": "stdout",
     "output_type": "stream",
     "text": [
      "Score: 0.98989898989899\n"
     ]
    }
   ],
   "source": [
    "print('Score:',accuracy_score(testing_data.label,pred))"
   ]
  },
  {
   "cell_type": "code",
   "execution_count": 24,
   "id": "d06cccda",
   "metadata": {
    "execution": {
     "iopub.execute_input": "2023-01-14T23:24:02.563250Z",
     "iopub.status.busy": "2023-01-14T23:24:02.562933Z",
     "iopub.status.idle": "2023-01-14T23:24:02.578513Z",
     "shell.execute_reply": "2023-01-14T23:24:02.577487Z"
    },
    "papermill": {
     "duration": 0.026289,
     "end_time": "2023-01-14T23:24:02.580808",
     "exception": false,
     "start_time": "2023-01-14T23:24:02.554519",
     "status": "completed"
    },
    "tags": []
   },
   "outputs": [
    {
     "data": {
      "text/plain": [
       "'pos'"
      ]
     },
     "execution_count": 24,
     "metadata": {},
     "output_type": "execute_result"
    }
   ],
   "source": [
    "pipe.predict([\"الحمد لله \"])[0]"
   ]
  },
  {
   "cell_type": "code",
   "execution_count": 25,
   "id": "d1265a6a",
   "metadata": {
    "execution": {
     "iopub.execute_input": "2023-01-14T23:24:02.598820Z",
     "iopub.status.busy": "2023-01-14T23:24:02.598047Z",
     "iopub.status.idle": "2023-01-14T23:24:02.611335Z",
     "shell.execute_reply": "2023-01-14T23:24:02.610297Z"
    },
    "papermill": {
     "duration": 0.024701,
     "end_time": "2023-01-14T23:24:02.613458",
     "exception": false,
     "start_time": "2023-01-14T23:24:02.588757",
     "status": "completed"
    },
    "tags": []
   },
   "outputs": [
    {
     "data": {
      "text/plain": [
       "'neg'"
      ]
     },
     "execution_count": 25,
     "metadata": {},
     "output_type": "execute_result"
    }
   ],
   "source": [
    "pipe.predict([\" ما انصح بها :(\"])[0]"
   ]
  },
  {
   "cell_type": "code",
   "execution_count": 26,
   "id": "ef83cbd4",
   "metadata": {},
   "outputs": [
    {
     "data": {
      "text/plain": [
       "'neg'"
      ]
     },
     "execution_count": 26,
     "metadata": {},
     "output_type": "execute_result"
    }
   ],
   "source": [
    "pipe.predict([\"ماش  الدخول سيئ seu\"])[0]"
   ]
  },
  {
   "cell_type": "code",
   "execution_count": 27,
   "id": "3828f3ad",
   "metadata": {},
   "outputs": [
    {
     "data": {
      "text/plain": [
       "'pos'"
      ]
     },
     "execution_count": 27,
     "metadata": {},
     "output_type": "execute_result"
    }
   ],
   "source": [
    "pipe.predict([\"المحامي جيد\"]) [0]"
   ]
  },
  {
   "cell_type": "code",
   "execution_count": 28,
   "id": "5620997d",
   "metadata": {},
   "outputs": [
    {
     "data": {
      "text/plain": [
       "'neg'"
      ]
     },
     "execution_count": 28,
     "metadata": {},
     "output_type": "execute_result"
    }
   ],
   "source": [
    "pipe.predict([\"المحامي غير جيد\"])[0]"
   ]
  },
  {
   "cell_type": "code",
   "execution_count": 29,
   "id": "08fe4dd6",
   "metadata": {},
   "outputs": [
    {
     "data": {
      "text/plain": [
       "'pos'"
      ]
     },
     "execution_count": 29,
     "metadata": {},
     "output_type": "execute_result"
    }
   ],
   "source": [
    "pipe.predict( [\"الجامعة جيدة\"])[0]"
   ]
  },
  {
   "cell_type": "code",
   "execution_count": 30,
   "id": "99ac4ea5",
   "metadata": {
    "execution": {
     "iopub.execute_input": "2023-01-14T23:24:02.697140Z",
     "iopub.status.busy": "2023-01-14T23:24:02.696869Z",
     "iopub.status.idle": "2023-01-14T23:24:02.710921Z",
     "shell.execute_reply": "2023-01-14T23:24:02.709943Z"
    },
    "papermill": {
     "duration": 0.025733,
     "end_time": "2023-01-14T23:24:02.712866",
     "exception": false,
     "start_time": "2023-01-14T23:24:02.687133",
     "status": "completed"
    },
    "tags": []
   },
   "outputs": [
    {
     "data": {
      "text/plain": [
       "'neg'"
      ]
     },
     "execution_count": 30,
     "metadata": {},
     "output_type": "execute_result"
    }
   ],
   "source": [
    "pipe.predict([\"حزين\"])[0]"
   ]
  },
  {
   "cell_type": "code",
   "execution_count": 31,
   "id": "18c9d447",
   "metadata": {
    "execution": {
     "iopub.execute_input": "2023-01-14T23:24:02.732456Z",
     "iopub.status.busy": "2023-01-14T23:24:02.731605Z",
     "iopub.status.idle": "2023-01-14T23:24:02.745762Z",
     "shell.execute_reply": "2023-01-14T23:24:02.744759Z"
    },
    "papermill": {
     "duration": 0.026258,
     "end_time": "2023-01-14T23:24:02.747943",
     "exception": false,
     "start_time": "2023-01-14T23:24:02.721685",
     "status": "completed"
    },
    "tags": []
   },
   "outputs": [
    {
     "data": {
      "text/plain": [
       "'neg'"
      ]
     },
     "execution_count": 31,
     "metadata": {},
     "output_type": "execute_result"
    }
   ],
   "source": [
    "pipe.predict([\"لقد حصلت علي تقدير مقبول \"])[0]"
   ]
  },
  {
   "cell_type": "code",
   "execution_count": 32,
   "id": "6c01b4f6",
   "metadata": {},
   "outputs": [
    {
     "data": {
      "text/plain": [
       "'pos'"
      ]
     },
     "execution_count": 32,
     "metadata": {},
     "output_type": "execute_result"
    }
   ],
   "source": [
    "pipe.predict([\"سبحان الله \"])[0]"
   ]
  },
  {
   "cell_type": "code",
   "execution_count": 33,
   "id": "a952ee16",
   "metadata": {},
   "outputs": [
    {
     "data": {
      "text/plain": [
       "'pos'"
      ]
     },
     "execution_count": 33,
     "metadata": {},
     "output_type": "execute_result"
    }
   ],
   "source": [
    "pipe.predict([\"الجامعة السعودية الالكترونية جيدة\"])[0]"
   ]
  },
  {
   "cell_type": "code",
   "execution_count": 34,
   "id": "3b26f0b3",
   "metadata": {},
   "outputs": [
    {
     "data": {
      "text/plain": [
       "'neg'"
      ]
     },
     "execution_count": 34,
     "metadata": {},
     "output_type": "execute_result"
    }
   ],
   "source": [
    "pipe.predict([\"    ظلمةالليل    \"])[0]"
   ]
  },
  {
   "cell_type": "code",
   "execution_count": 35,
   "id": "3e6ea3da",
   "metadata": {
    "execution": {
     "iopub.execute_input": "2023-01-14T23:24:02.872415Z",
     "iopub.status.busy": "2023-01-14T23:24:02.871052Z",
     "iopub.status.idle": "2023-01-14T23:24:02.884799Z",
     "shell.execute_reply": "2023-01-14T23:24:02.883764Z"
    },
    "papermill": {
     "duration": 0.025237,
     "end_time": "2023-01-14T23:24:02.886740",
     "exception": false,
     "start_time": "2023-01-14T23:24:02.861503",
     "status": "completed"
    },
    "tags": []
   },
   "outputs": [
    {
     "data": {
      "text/plain": [
       "'pos'"
      ]
     },
     "execution_count": 35,
     "metadata": {},
     "output_type": "execute_result"
    }
   ],
   "source": [
    "pipe.predict ([\"الجو جميل \"])[0]"
   ]
  },
  {
   "cell_type": "code",
   "execution_count": 36,
   "id": "fa25947b",
   "metadata": {},
   "outputs": [
    {
     "data": {
      "text/plain": [
       "'pos'"
      ]
     },
     "execution_count": 36,
     "metadata": {},
     "output_type": "execute_result"
    }
   ],
   "source": [
    "\n",
    "pipe.predict([\"ابو سلمان كيفك\"])[0]"
   ]
  },
  {
   "cell_type": "code",
   "execution_count": 37,
   "id": "71e6bc1b",
   "metadata": {},
   "outputs": [
    {
     "data": {
      "text/plain": [
       "'neg'"
      ]
     },
     "execution_count": 37,
     "metadata": {},
     "output_type": "execute_result"
    }
   ],
   "source": [
    "pipe.predict([\"اهلا وسهلا\"]) [0]"
   ]
  },
  {
   "cell_type": "code",
   "execution_count": 38,
   "id": "f59041fa",
   "metadata": {},
   "outputs": [
    {
     "data": {
      "text/plain": [
       "'pos'"
      ]
     },
     "execution_count": 38,
     "metadata": {},
     "output_type": "execute_result"
    }
   ],
   "source": [
    "\n",
    "pipe.predict([\"كيفك انت؟\"])[0]"
   ]
  },
  {
   "cell_type": "code",
   "execution_count": 39,
   "id": "77a3a97e",
   "metadata": {},
   "outputs": [
    {
     "data": {
      "text/plain": [
       "'pos'"
      ]
     },
     "execution_count": 39,
     "metadata": {},
     "output_type": "execute_result"
    }
   ],
   "source": [
    "\n",
    "pipe.predict([\"سبحان الله\"])[0]"
   ]
  }
 ],
 "metadata": {
  "kernelspec": {
   "display_name": "Python 3",
   "language": "python",
   "name": "python3"
  },
  "language_info": {
   "codemirror_mode": {
    "name": "ipython",
    "version": 3
   },
   "file_extension": ".py",
   "mimetype": "text/x-python",
   "name": "python",
   "nbconvert_exporter": "python",
   "pygments_lexer": "ipython3",
   "version": "3.11.3 (v3.11.3:f3909b8bc8, Apr  4 2023, 20:12:10) [Clang 13.0.0 (clang-1300.0.29.30)]"
  },
  "papermill": {
   "default_parameters": {},
   "duration": 512.498829,
   "end_time": "2023-01-14T23:24:03.516447",
   "environment_variables": {},
   "exception": null,
   "input_path": "__notebook__.ipynb",
   "output_path": "__notebook__.ipynb",
   "parameters": {},
   "start_time": "2023-01-14T23:15:31.017618",
   "version": "2.3.4"
  },
  "vscode": {
   "interpreter": {
    "hash": "8a5edab282632443219e051e4ade2d1d5bbc671c781051bf1437897cbdfea0f1"
   }
  }
 },
 "nbformat": 4,
 "nbformat_minor": 5
}
